{
 "cells": [
  {
   "cell_type": "code",
   "execution_count": 1,
   "id": "8aff9462",
   "metadata": {},
   "outputs": [],
   "source": [
    "import numpy as np\n",
    "# Importing standard Qiskit libraries\n",
    "from qiskit import QuantumCircuit, transpile, Aer, IBMQ\n",
    "from qiskit.tools.jupyter import *\n",
    "from qiskit.visualization import *\n",
    "from ibm_quantum_widgets import *\n",
    "\n",
    "# Loading your IBM Quantum account(s)\n",
    "provider = IBMQ.load_account()"
   ]
  },
  {
   "cell_type": "code",
   "execution_count": 2,
   "id": "e2b1b465",
   "metadata": {},
   "outputs": [],
   "source": [
    "#importing the libraries\n",
    "from qiskit import QuantumRegister, ClassicalRegister, QuantumCircuit\n",
    "from numpy import pi"
   ]
  },
  {
   "cell_type": "code",
   "execution_count": null,
   "id": "5262ec9f",
   "metadata": {},
   "outputs": [],
   "source": [
    "#creating quantum and classical registers\n",
    "qreg_q = QuantumRegister(3, 'q')\n",
    "creg_c = ClassicalRegister(3, 'c')\n",
    "circuit = QuantumCircuit(qreg_q, creg_c)"
   ]
  },
  {
   "cell_type": "code",
   "execution_count": null,
   "id": "969e45b4",
   "metadata": {},
   "outputs": [],
   "source": [
    "#building circuits\n",
    "circuit.rz(pi/2, qreg_q[2])\n",
    "circuit.sx(qreg_q[2])\n",
    "circuit.rz(pi/2, qreg_q[2])\n",
    "circuit.cx(qreg_q[1], qreg_q[2])\n",
    "circuit.rz(-pi/4, qreg_q[2])\n",
    "circuit.cx(qreg_q[0], qreg_q[2])\n",
    "circuit.rz(pi/4, qreg_q[2])\n",
    "circuit.cx(qreg_q[1], qreg_q[2])\n",
    "circuit.rz(-pi/4, qreg_q[2])\n",
    "circuit.cx(qreg_q[0], qreg_q[2])\n",
    "circuit.rz(pi/4, qreg_q[1])\n",
    "circuit.rz(pi/4, qreg_q[2])\n",
    "circuit.cx(qreg_q[0], qreg_q[1])\n",
    "circuit.rz(pi/2, qreg_q[2])\n",
    "circuit.rz(pi/4, qreg_q[0])\n",
    "circuit.rz(-pi/4, qreg_q[1])\n",
    "circuit.sx(qreg_q[2])\n",
    "circuit.cx(qreg_q[0], qreg_q[1])\n",
    "circuit.rz(pi/2, qreg_q[2])"
   ]
  },
  {
   "cell_type": "code",
   "execution_count": null,
   "id": "561b2679",
   "metadata": {},
   "outputs": [],
   "source": [
    "#visualizing the circuit\n",
    "editor = CircuitComposer(circuit=circuit)\n",
    "editor"
   ]
  }
 ],
 "metadata": {
  "kernelspec": {
   "display_name": "Python 3 (ipykernel)",
   "language": "python",
   "name": "python3"
  },
  "language_info": {
   "codemirror_mode": {
    "name": "ipython",
    "version": 3
   },
   "file_extension": ".py",
   "mimetype": "text/x-python",
   "name": "python",
   "nbconvert_exporter": "python",
   "pygments_lexer": "ipython3",
   "version": "3.8.10"
  }
 },
 "nbformat": 4,
 "nbformat_minor": 5
}
